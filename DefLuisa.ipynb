{
 "cells": [
  {
   "cell_type": "markdown",
   "id": "6b023e7b",
   "metadata": {},
   "source": [
    "## Librerias"
   ]
  },
  {
   "cell_type": "code",
   "execution_count": 1,
   "id": "8e01c82d",
   "metadata": {},
   "outputs": [
    {
     "name": "stdout",
     "output_type": "stream",
     "text": [
      "Requirement already satisfied: Pulp in c:\\users\\luisa guantiva\\anaconda3\\lib\\site-packages (2.7.0)\n",
      "Note: you may need to restart the kernel to use updated packages.\n"
     ]
    }
   ],
   "source": [
    "#pip install Pulp "
   ]
  },
  {
   "cell_type": "code",
   "execution_count": 12,
   "id": "154aa667",
   "metadata": {},
   "outputs": [],
   "source": [
    "import pandas as pd\n",
    "import os \n",
    "import pulp"
   ]
  },
  {
   "cell_type": "markdown",
   "id": "a9408f50",
   "metadata": {},
   "source": [
    "## Lectura de datos"
   ]
  },
  {
   "cell_type": "code",
   "execution_count": 35,
   "id": "91dc8c68",
   "metadata": {},
   "outputs": [],
   "source": [
    "df_demanda = pd.read_excel('Dataton 2023 Etapa 1.xlsx', sheet_name=\"demand\")\n",
    "df_workers = pd.read_excel('Dataton 2023 Etapa 1.xlsx', sheet_name=\"workers\")"
   ]
  },
  {
   "cell_type": "code",
   "execution_count": 39,
   "id": "8fb36399",
   "metadata": {},
   "outputs": [],
   "source": [
    "# Convertimos la columna 'fecha_hora' esté en formato datetime\n",
    "df_demanda['fecha_hora'] = pd.to_datetime(df_demanda['fecha_hora'])\n",
    "# Define las variables binarias\n",
    "empleados = df_workers['documento'].tolist()\n",
    "franjas = range(len(df_demanda))\n",
    "estados = [\"Nada\", \"Trabaja\", \"PausaActiva\", \"Almuerzo\"]\n",
    "variables = [(empleado, franja, estado) for empleado in empleados for franja in franjas for estado in estados]\n",
    "trabaja = pulp.LpVariable.dicts(\"Trabaja\", variables, cat=pulp.LpBinary)"
   ]
  },
  {
   "cell_type": "code",
   "execution_count": 40,
   "id": "58ca0581",
   "metadata": {},
   "outputs": [],
   "source": [
    "# Define la función objetivo para minimizar la diferencia entre la demanda y la capacidad\n",
    "demandas = df_demanda['demanda'].tolist()\n",
    "# Capacidad de empleados disponibles en una franja\n",
    "capacidad = len(empleados)\n",
    "# Crea el problema de minimización\n",
    "prob = pulp.LpProblem(\"ProgramacionHoraria\", pulp.LpMinimize)\n",
    "prob += pulp.lpSum(demandas[i] - pulp.lpSum(trabaja[(e, i, 'Trabaja')] for e in empleados) for i in franjas)"
   ]
  },
  {
   "cell_type": "code",
   "execution_count": 41,
   "id": "87a2e2ab",
   "metadata": {},
   "outputs": [],
   "source": [
    "# Restricción 1: Cada empleado debe cumplir 8 horas de trabajo (29 periodos de 15 minutos)\n",
    "for empleado in empleados:\n",
    "    prob += pulp.lpSum(trabaja[(empleado, i, 'Trabaja')] for i in franjas) == 29\n"
   ]
  },
  {
   "cell_type": "code",
   "execution_count": 43,
   "id": "493401cf",
   "metadata": {},
   "outputs": [],
   "source": [
    "# Restricción 2: Mínimo 4 periodos de 15 minutos y máximo 8 periodos de 15 minutos para pasar a \"Pausa Activa\"\n",
    "for empleado in empleados:\n",
    "    for franja in franjas:\n",
    "        if franja >= 8:  # Asegúrate de que haya suficientes franjas anteriores\n",
    "            # Agrega restricciones para \"Pausa Activa\"\n",
    "            suma_trabajo = pulp.lpSum(trabaja[(empleado, i, 'Trabaja')] for i in range(franja - 8, franja))\n",
    "            suma_pausa_activa = pulp.lpSum(trabaja[(empleado, i, 'PausaActiva')] for i in range(franja - 4, franja))\n",
    "            prob += suma_trabajo - suma_pausa_activa <= 0\n",
    "            prob += suma_pausa_activa - suma_trabajo <= 4  # Cambia 4 a tu máximo requerido\n"
   ]
  },
  {
   "cell_type": "code",
   "execution_count": 44,
   "id": "6eeac4f2",
   "metadata": {},
   "outputs": [],
   "source": [
    "# Restricción 3: Tiempo de almuerzo de 6 periodos de 15 minutos\n",
    "for empleado in empleados:\n",
    "    for franja in franjas:\n",
    "        if franja >= 6:  # Asegúrate de que haya suficientes franjas anteriores\n",
    "            suma_almuerzo = pulp.lpSum(trabaja[(empleado, i, 'Almuerzo')] for i in range(franja - 6, franja))\n",
    "            prob += suma_almuerzo <= 0  # No pueden haber más de 6 periodos de almuerzo seguidos\n"
   ]
  },
  {
   "cell_type": "code",
   "execution_count": 46,
   "id": "61205a41",
   "metadata": {},
   "outputs": [],
   "source": [
    "# Restricción 4: Al menos 1 empleado en el estado \"Trabaja\" en cada franja horaria\n",
    "for franja in franjas:\n",
    "    prob += pulp.lpSum(trabaja[(e, franja, 'Trabaja')] for e in empleados) >= 1\n"
   ]
  },
  {
   "cell_type": "code",
   "execution_count": 49,
   "id": "d3951aa8",
   "metadata": {},
   "outputs": [],
   "source": [
    "# Resuelve el problema\n",
    "prob.solve()\n",
    "# Crea un DataFrame para almacenar la solución\n",
    "solucion_df = pd.DataFrame()\n",
    "# Imprime la solución\n",
    "if pulp.LpStatus[prob.status] == \"Optimal\":\n",
    "    for empleado in empleados:\n",
    "        for franja in franjas:\n",
    "            for estado in estados:\n",
    "                if pulp.value(trabaja[(empleado, franja, estado)]) == 1:\n",
    "                    print(f\"Empleado {empleado} está en estado {estado} en franja horaria {franja}\")\n",
    "\n",
    "# Exporta la solución \n",
    "solucion_df.to_csv(\"solucionprueba.csv\", index=False)\n"
   ]
  }
 ],
 "metadata": {
  "kernelspec": {
   "display_name": "Python 3 (ipykernel)",
   "language": "python",
   "name": "python3"
  },
  "language_info": {
   "codemirror_mode": {
    "name": "ipython",
    "version": 3
   },
   "file_extension": ".py",
   "mimetype": "text/x-python",
   "name": "python",
   "nbconvert_exporter": "python",
   "pygments_lexer": "ipython3",
   "version": "3.9.12"
  }
 },
 "nbformat": 4,
 "nbformat_minor": 5
}
